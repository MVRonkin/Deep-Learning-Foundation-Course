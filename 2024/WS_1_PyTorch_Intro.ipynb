{
 "cells": [
  {
   "cell_type": "markdown",
   "metadata": {
    "id": "uN6TB9khd_mM"
   },
   "source": [
    "# Основы работы с PyTorch\n"
   ]
  },
  {
   "cell_type": "markdown",
   "metadata": {
    "id": "wq5REr17d_mP"
   },
   "source": [
    "Фреймворк [`PyTorch`](https://pytorch.org/) — это библиотека машинного обучения с открытым исходным кодом для языка программирования `Python`. Как правило, фреймворк `PyTorch` используется для приложений [глубокого обучения нейронных сетей](https://www.deeplearningbook.org/). \n",
    "Первоначально `PyTorch` был разработан исследовательской группой по искусственному интеллекту в виде фреймворка `torch` для языка программирования `Luno`.\n",
    "\n",
    "Сегодня `PyTorch` представляет собой основной и один из наиболее популярных фреймворков для работы с нейронными сетями. Вокруг фреймворка собрано активное сообщество, которое не только поддерживает сам фреймворк, но и развивает свои проекты на его основе. Наиболее успешные из таких проектов попадают в т. н. [экосистему `PyTorch`](https://pytorch.org/ecosystem/). Также на `PyTorch` написаны такие известные инструменты, как инструменты сообщества [Hugging Face](https://huggingface.co/) и многие другие.\n",
    "\n",
    "Особенностями `PyTorch` являются удобство работы с большими упорядоченными массивами данных, в том числе на разных вычислителях; возможности автоматизации обучения нейронных сетей такими методами, как обратное распространение ошибки, и удобство работы с отдельными слоями и составляющими архитектур нейронных сетей. Данная практика посвящена изучению указанных особенностей `PyTorch`.\n",
    "\n",
    "<blockquote>\n",
    "    \n",
    "Также можно рекомендовать следующие ресурсы для дополнительного изучения `PyTorch`:\n",
    "<!-- * https://pytorch.org/tutorials/beginner/deep_learning_60min_blitz.html — официальный курс `PyTorch` за 60 минут. -->\n",
    "* [Коллекция официальных уроков по `PyTorch`]( https://pytorch.org/tutorials/index.html), например [базовые уроки](https://pytorch.org/tutorials/beginner/basics/intro.html) .\n",
    "* [Набор более специализированных официальных уроков `PyTorch`](https://pytorch.org/tutorials/recipes/recipes_index.html).\n",
    "* [Dive into Deep Learning](https://d2l.ai/). Интерактивная книга с примерами на `PyTorch` и других фреймворках.\n",
    "* [Learn PyTorch for Deep Learning: Zero to Mastery book](https://www.learnpytorch.io/).\n",
    "* [UvA Deep Learning Tutorials](https://uvadlc-notebooks.readthedocs.io/en/latest/index.html).\n",
    "* [Deep Learning Wizard](https://www.deeplearningwizard.com/deep_learning/intro/), интерактивная книга.\n",
    "* [Коллекция ресурсов, посвященных `PyTorch`](https://github.com/ritchieng/the-incredible-pytorch).\n",
    "* [Курс от `PyTorch Lightning`](https://github.com/Lightning-AI/dl-fundamentals)."
   ]
  },
  {
   "cell_type": "markdown",
   "metadata": {},
   "source": [
    "> Кракто, в виде справки перечислим [основные особенности](https://github.com/Devinterview-io/pytorch-interview-questions) фреймворка `PyTorch`.\n",
    "> * __Динамические вычисления__. В отличие от популярного [`TensorFlow`](https://www.tensorflow.org/?hl=ru) ( и фреймворков на его основе, например [`keras`](https://keras.io/), который в основном использует <tt>статические вычислительные графы</tt>, [`PyTorch`](https://pytorch.org/) предлагает <tt>динамические вычислительные возможности</tt>. Это позволяет ему работать с более сложными архитектурами и облегчает итеративный, удобный для отладки рабочий процесс. Более того, динамическая природа `PyTorch` естественным образом сочетается с питоновскими конструкциями, что приводит к более интуитивному опыту разработки.\n",
    "> * __Простота использования.__ `PyTorch` известен своим упрощенным, питоновским интерфейсом. Это делает процесс построения и обучения моделей более доступным, особенно для разработчиков с опытом работы на `Python`.\n",
    "> * __Ускорение на <tt>`GPU`</tt>__. `PyTorch` отлично использует вычислительные возможности графических процессоров, значительно сокращая время обучения. Он также обеспечивает беспрепятственное использование нескольких <tt>`GPU`</tt>.\n",
    "> * __Гибкость модели__. Еще одной отличительной особенностью является возможность интеграции управляющих структур `Python`, таких как циклы и условия, что дает разработчикам большую гибкость в определении поведения модели.\n",
    "> * __Отладка и визуализация__. `PyTorch` интегрируется с такими библиотеками, как matplotlib, и предлагает набор отладочных инструментов, а именно `torch.utils.bottleneck`, `torch.utils.tester` и `torch.utils.gdb`.\n",
    "\n",
    "Таким образом, следует выбирать PyTorch для:\n",
    "* проектов, ориентированных на исследования. Особенно для проектов, в которых требуется динамическое поведение или эксперименты с архитектурами нейронных сетей.\n",
    "* прототипирования. Для быстрого и оперативного цикла разработки.\n",
    "* проектов малого и среднего масштаба. Там, где важны простота использования и быстрое обучение."
   ]
  },
  {
   "cell_type": "markdown",
   "metadata": {},
   "source": [
    "## Импорт"
   ]
  },
  {
   "cell_type": "markdown",
   "metadata": {
    "id": "jDrzY6zYd_mQ"
   },
   "source": [
    "Давайте для начала попробуем импортировать библиотеку PyTorch."
   ]
  },
  {
   "cell_type": "code",
   "execution_count": 1,
   "metadata": {
    "tags": []
   },
   "outputs": [],
   "source": [
    "%load_ext autoreload\n",
    "%autoreload 2"
   ]
  },
  {
   "cell_type": "code",
   "execution_count": 1,
   "metadata": {
    "colab": {
     "base_uri": "https://localhost:8080/"
    },
    "id": "mQWZhivId_mR",
    "outputId": "0ad53e6f-51f5-4e53-df1e-d08e0fc4455a"
   },
   "outputs": [
    {
     "name": "stdout",
     "output_type": "stream",
     "text": [
      "version: 2.1.2+cpu\n"
     ]
    }
   ],
   "source": [
    "import torch\n",
    "print('version:',torch.version.__version__)"
   ]
  },
  {
   "cell_type": "markdown",
   "metadata": {
    "id": "lF3wRg0sd_mS"
   },
   "source": [
    "Теперь попробуем импортировать остальные библиотеки, которые понадобятся нам в этом уроке."
   ]
  },
  {
   "cell_type": "code",
   "execution_count": 2,
   "metadata": {
    "id": "sjMwq1V3d_mT"
   },
   "outputs": [],
   "source": [
    "import os\n",
    "import random\n",
    "import numpy as np\n",
    "import matplotlib.pyplot as plt"
   ]
  },
  {
   "cell_type": "markdown",
   "metadata": {
    "id": "pf185WXPd_mT"
   },
   "source": [
    "Теперь выберем устройство. Чаще всего возможны варианты использования `PyTorch` с центральным процессором (`CPU`) или с графическим ускорителем (`GPU`) компании `NVidia` (поддержка фреймворка `cuda`). Однако, также последние версии `PyTorch` позволяют работать с расширенным набором устройств, среди которых следующие варианты: `cpu, cuda, xpu, mkldnn, opengl, opencl, ideep, hip, ve, ort, mlc, xla, lazy, vulkan, meta, hpu`.\n",
    "\n",
    "Итак, выберем устройство (`CPU` или `GPU`) и выведем необходимую информацию."
   ]
  },
  {
   "cell_type": "code",
   "execution_count": 3,
   "metadata": {
    "colab": {
     "base_uri": "https://localhost:8080/"
    },
    "id": "bf8zs_wvd_mU",
    "outputId": "21d17b76-0978-4bc6-b1e5-eb7d3cfdef3f"
   },
   "outputs": [
    {
     "name": "stdout",
     "output_type": "stream",
     "text": [
      "Using device: cpu\n",
      "available number of workers: 4\n",
      "Current data type: torch.float32\n"
     ]
    }
   ],
   "source": [
    "device = torch.device('cuda' if torch.cuda.is_available() else 'cpu')\n",
    "print('Using device:', device)\n",
    "\n",
    "if device.type == 'cuda':\n",
    "    torch.set_default_tensor_type(torch.cuda.FloatTensor)\n",
    "    print('Cuda is available:',torch.cuda.is_available())\n",
    "    \n",
    "    n_devices = torch.cuda.device_count()\n",
    "    print('number of devices: %d'%(n_devices))\n",
    "    \n",
    "    for cnt_device in range(n_devices):\n",
    "        print(torch.cuda.get_device_name(cnt_device))\n",
    "        print('Memory Usage:')\n",
    "        print('Allocated:', round(torch.cuda.memory_allocated(cnt_device)/1024**3,1), 'GB')\n",
    "        print('Cached:   ', round(torch.cuda.memory_reserved(cnt_device)/1024**3,1), 'GB')\n",
    "\n",
    "\n",
    "num_workers=os.cpu_count()\n",
    "print ('available number of workers:',num_workers)\n",
    "       \n",
    "dtype = torch.float\n",
    "torch.set_default_dtype(dtype) # float32\n",
    "print('Current data type:',dtype)"
   ]
  },
  {
   "cell_type": "markdown",
   "metadata": {},
   "source": [
    "Тут используются следующие проверки:\n"
   ]
  },
  {
   "cell_type": "code",
   "execution_count": 4,
   "metadata": {},
   "outputs": [
    {
     "name": "stdout",
     "output_type": "stream",
     "text": [
      "Is the GPU available? False\n"
     ]
    }
   ],
   "source": [
    "gpu_avail = torch.cuda.is_available()\n",
    "print(f\"Is the GPU available? {gpu_avail}\")"
   ]
  },
  {
   "cell_type": "markdown",
   "metadata": {
    "id": "tThFNNiid_mV"
   },
   "source": [
    "Отметим также, что по каждому устройству `GPU` может быть получена информация при помощи функций `torch.cuda.get_device_properties(device)` и `torch.cuda.mem_get_info(device=None)`; или в командной строке при помощи утилиты `nvidia-smi`. Более подробную информацию о доступной информации о `GPU` можно получить в соответствующем разделе документации [тут](https://pytorch.org/docs/stable/notes/cuda.html)."
   ]
  },
  {
   "cell_type": "markdown",
   "metadata": {
    "id": "D-nFRd7Hd_mX"
   },
   "source": [
    "В целях воспроизводимости экспериментов мы установим все случайные величины в одно положение. Однако отметим, что следующий код гарантирует воспроизводимость результатов только для одной конфигурации вычислительного устройства, включая как его аппаратную, так и его программную часть. Также отмечается, что в некоторых случаях использование директив `deterministic` и `use_deterministic_algorithms` из кода ниже может замедлять или даже приводить к ошибкам в работе `PyTorch`. Поэтому такие директивы лучше использовать только в контролируемых экспериментах. Подробней о данной теме можно узнать [тут](https://pytorch.org/docs/stable/notes/randomness.html)."
   ]
  },
  {
   "cell_type": "code",
   "execution_count": 5,
   "metadata": {
    "id": "2EWHSAJ_d_mX"
   },
   "outputs": [],
   "source": [
    "seed = 42\n",
    "torch.manual_seed(seed) #cpu\n",
    "torch.cuda.manual_seed(seed) #gpu\n",
    "np.random.seed(seed) #numpy\n",
    "random.seed(seed) # random and transforms\n",
    "\n",
    "torch.backends.cudnn.deterministic=True #cudnn\n",
    "# torch.use_deterministic_algorithms(True)"
   ]
  },
  {
   "cell_type": "markdown",
   "metadata": {},
   "source": [
    "В некоторых случаях, особенно при использовании `GPU` нам также потребуется функционал для очистки кеш-памяти."
   ]
  },
  {
   "cell_type": "code",
   "execution_count": 5,
   "metadata": {
    "tags": []
   },
   "outputs": [],
   "source": [
    "def clean_memory():\n",
    "    if torch.cuda.is_available():\n",
    "        torch.cuda.empty_cache()\n",
    "    \n",
    "    to_remove = set()\n",
    "    for k, v in globals().items():\n",
    "        if isinstance(v, (torch.nn.Module)):\n",
    "            to_remove.add(k)\n",
    "    for k in to_remove:\n",
    "        del globals()[k]\n",
    "    gc.collect()"
   ]
  },
  {
   "cell_type": "markdown",
   "metadata": {},
   "source": [
    "## Понятие тензор в `torch`"
   ]
  },
  {
   "cell_type": "markdown",
   "metadata": {
    "id": "FHlRIjcrd_mW"
   },
   "source": [
    "Основной тип данных в `PyTorch` — это [<tt>тензор</tt>](https://pytorch.org/tutorials/beginner/introyt/tensors_deeper_tutorial.html). Тензоры могут быть разной размерности и разного типа данных.  \n",
    "\n",
    "В нашем случае мы установили основной тип значений `float32`.\n",
    "\n",
    "Однако `PyTorch` поддерживает и другие типы, про которые можно узнать [тут](https://pytorch.org/docs/stable/tensors.html).\n",
    "\n",
    "Важно понимать, что `PyTorch` является строго типизированным фреймворком, это значит, что типы данных должны быть заданы и для каждой операции должны совпадать или быть преобразованными.\n",
    "\n",
    "Также отметим, что тензор в данном понимании отличается от стандартного, принятого в физике, и обозначает просто многомерную матрицу."
   ]
  },
  {
   "cell_type": "markdown",
   "metadata": {},
   "source": [
    ">В глубоком обучении [тензоры](https://www.dataquest.io/blog/pytorch-for-beginners/) - это фундаментальная структура данных, очень похожая на массивы и матрицы, с помощью которой мы можем эффективно выполнять математические операции над большими наборами данных. Тензор может быть представлен как матрица, а также как вектор, скаляр или массив более высокой размерности.\n",
    "\n",
    ">Чтобы было проще представить, можно думать о тензоре как о простом массиве, содержащем скаляры или другие массивы. В `PyTorch` тензор - это структура, очень похожая на `ndarray`, с той лишь разницей, что они могут работать на `GPU`, что значительно ускоряет процесс вычислений.\n",
    "\n"
   ]
  },
  {
   "cell_type": "markdown",
   "metadata": {
    "id": "98nscUwld_mW"
   },
   "source": [
    "![tensor.png](data:image/png;base64,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)"
   ]
  },
  {
   "cell_type": "markdown",
   "metadata": {},
   "source": [
    ">Отметим [основные особенности](https://github.com/Devinterview-io/pytorch-interview-questions) использования понятия тензор.\n",
    "В `PyTorch` тензоры служат фундаментальным строительным блоком, обеспечивающим эффективные численные вычисления на различных устройствах, таких как `CPU, GPU и TPU`. Концептуально тензоры похожи на numpy.arrays, но при этом имеют преимущества аппаратного ускорения и предлагают ряд дополнительных возможностей для глубокого обучения и научных вычислений.\n",
    "> Основные возможности:\n",
    "> * __Автоматическое дифференцирование__. Тензоры отслеживают операции, выполняемые над ними, что позволяет мгновенно дифференцировать их для таких задач, как градиентный спуск в нейронных сетях. Установив флаг `requires_grad`, вы можете указать, какие тензоры должны отслеживать свои градиенты.\n",
    "> * __Вычислительные графы__. Операции над тензорами строят вычислительные графы, позволяя проследить поток данных и связанных с ними градиентов.\n",
    "> * __Агностичность по отношению к устройствам.__ Тензоры можно гибко перемещать между доступными аппаратными ресурсами для оптимальных вычислений.\n",
    "> * __Гибкое управление памятью. `PyTorch` динамически управляет памятью, а его тензоры знают о вычислительном графе, что делает сборку мусора более эффективной.\n",
    "> * __Уникальные тензоры__ `Float16`, `Float32`, `Float64`. Тензоры поддерживают различные численные точности, по умолчанию используются $32$-битные плавающие числа.\n",
    "> * __Разреженные тензоры__ - эти тензоры похожи на плотные, но оптимизированы для задач с большим количеством нулей, что позволяет экономить память и вычисления.\n",
    "> * __Квантованные тензоры__ - это тензоры, разработанные специально для задач, требующих пониженной точности, чтобы получить преимущества от более быстрых операций и меньшей занимаемой памяти.\n",
    "> * __Операции над элементами__ - `PyTorch` рассчитан на параллелизм и предоставляет богатый набор поэлементных операций, которые можно применять различными способами.\n",
    "\n",
    "\n"
   ]
  },
  {
   "cell_type": "markdown",
   "metadata": {
    "id": "CSy8NPM-d_mX"
   },
   "source": [
    "Рассмотрим примеры некоторых из приведенных выше тензоров:"
   ]
  },
  {
   "cell_type": "code",
   "execution_count": 6,
   "metadata": {
    "colab": {
     "base_uri": "https://localhost:8080/"
    },
    "id": "3QGhvZOFd_mX",
    "outputId": "2cfc8301-1423-46f4-d9da-e050e3798a39"
   },
   "outputs": [
    {
     "name": "stdout",
     "output_type": "stream",
     "text": [
      "скалярная величина: 3.0, 0-d размерность\n",
      "\n",
      "векторная величина: tensor([3., 2.]), 1-d размерность\n",
      "\n",
      "матрица величина: \n",
      "tensor([[1., 2.],\n",
      "        [3., 4.]]),\n",
      " 2-d размерность\n",
      "\n",
      "набор матриц: \n",
      "tensor([[[1., 2.],\n",
      "         [3., 4.]],\n",
      "\n",
      "        [[5., 6.],\n",
      "         [7., 8.]]]),\n",
      " 3-d размерность\n",
      "\n",
      " и т.д.\n"
     ]
    }
   ],
   "source": [
    "x = torch.tensor(3.)\n",
    "print(f'скалярная величина: {x}, {x.ndim}-d размерность\\n')\n",
    "\n",
    "x = torch.tensor([3.,2])\n",
    "print(f'векторная величина: {x}, {x.ndim}-d размерность\\n')\n",
    "\n",
    "x = torch.tensor([[1.,2],[3.,4]])\n",
    "print(f'матрица величина: \\n{x},\\n {x.ndim}-d размерность\\n')\n",
    "\n",
    "x = torch.tensor([[[1.,2],[3.,4]],[[5.,6],[7.,8]]])\n",
    "print(f'набор матриц: \\n{x},\\n {x.ndim}-d размерность\\n')\n",
    "print(f' и т.д.')"
   ]
  },
  {
   "cell_type": "markdown",
   "metadata": {},
   "source": [
    "Тензоры могут быть заданы напрямую при помощи функции `torch.tensor` или преобразованы, например, из `numpy` при помощи функции `from_numpy`."
   ]
  },
  {
   "cell_type": "code",
   "execution_count": 7,
   "metadata": {},
   "outputs": [
    {
     "name": "stdout",
     "output_type": "stream",
     "text": [
      "tensor([[ 0.4967],\n",
      "        [-0.1383]], dtype=torch.float64)\n"
     ]
    }
   ],
   "source": [
    "x = torch.randn(2, 1)\n",
    "\n",
    "x_np = np.random.randn(2,1)\n",
    "x_torch = torch.from_numpy(x_np)\n",
    "print(x_torch)"
   ]
  },
  {
   "cell_type": "markdown",
   "metadata": {},
   "source": [
    "Однако, также может быть выполнено и прямое преобразование типов данных."
   ]
  },
  {
   "cell_type": "code",
   "execution_count": 8,
   "metadata": {},
   "outputs": [],
   "source": [
    "numpy_array = np.array([1, 2, 3, 4])\n",
    "tensor = torch.Tensor(numpy_array)"
   ]
  },
  {
   "cell_type": "markdown",
   "metadata": {},
   "source": [
    "Кроме того, тензор может быть размещен в различном пространстве памяти. Он может храниться на `CPU` (по умолчанию) или на `GPU` либо другом устройстве. Для этого тензор можно отправлять на нужное устройство при помощи метода `to()` или напрямую `cpu()`, `cuda()`. Тут мы будем указывать ранее полученное значение переменной `device`.\n",
    "<!-- . -->"
   ]
  },
  {
   "cell_type": "code",
   "execution_count": 9,
   "metadata": {},
   "outputs": [
    {
     "name": "stdout",
     "output_type": "stream",
     "text": [
      "cpu\n"
     ]
    }
   ],
   "source": [
    "print(device)\n",
    "x = torch.randn(2, 1).to(device)"
   ]
  },
  {
   "cell_type": "markdown",
   "metadata": {},
   "source": [
    "Тензор может быть отправлен на необходимое устройство сразу при создании."
   ]
  },
  {
   "cell_type": "code",
   "execution_count": 10,
   "metadata": {},
   "outputs": [],
   "source": [
    "x = torch.tensor([1,2],device = device)\n",
    "x = torch.tensor([1,2]).cpu()\n",
    "if torch.cuda.is_available():\n",
    "    x = torch.tensor([1,2]).cuda()"
   ]
  },
  {
   "cell_type": "markdown",
   "metadata": {},
   "source": [
    "Также отметим, что в случае наличия нескольких `GPU` тензоры могут быть направлены на них автоматически.\n",
    "Ниже приведен пример работы с несколькими GPU."
   ]
  },
  {
   "cell_type": "code",
   "execution_count": 11,
   "metadata": {},
   "outputs": [],
   "source": [
    "if torch.cuda.is_available():\n",
    "    device = torch.device(\"cuda:0\" if torch.cuda.is_available() else \"cpu\")\n",
    "    x.to(device)  # Moves model to GPU device\n",
    "\n",
    "if torch.cuda.device_count() > 1:  # Checks for multiple GPUs\n",
    "    x = nn.DataParallel(x)  # Wraps model for multi-GPU training"
   ]
  },
  {
   "cell_type": "markdown",
   "metadata": {},
   "source": [
    "> Кроме того, тензор может быть вычислен на заданном GPU с использованием контекстного менеджера."
   ]
  },
  {
   "cell_type": "code",
   "execution_count": 12,
   "metadata": {},
   "outputs": [],
   "source": [
    "if torch.cuda.is_available():\n",
    "    with torch.cuda.device(0):  \n",
    "        x_on_specific_gpu = torch.rand(2, 2)\n",
    "        print(x_on_specific_gpu)"
   ]
  },
  {
   "cell_type": "markdown",
   "metadata": {},
   "source": [
    "> **В числе лучших практик.** Важно понимать, что, хотя `GPU` обеспечивают огромную мощность параллельной обработки, они также имеют высокую задержку (<tt>латентность, latency</tt>) и ограниченную память (<tt>GRAM, GDDR</tt>) по сравнению с `CPU`.\n",
    "Поэтому очень важно передавать данные (тензоры и модели) на `GPU` только в случае необходимости, чтобы минимизировать эти накладные расходы."
   ]
  },
  {
   "cell_type": "markdown",
   "metadata": {},
   "source": [
    "__Важно__. Тензор можно преобразовать обратно, например, в массив numpy, только если он находится в CPU и не используется в текущих вычислениях. Поэтому для вывода тензора в numpy мы будем создавать его копию при помощи detach() и будем использовать прямую директиву cpu."
   ]
  },
  {
   "cell_type": "code",
   "execution_count": 13,
   "metadata": {},
   "outputs": [
    {
     "name": "stdout",
     "output_type": "stream",
     "text": [
      "tensor([[-1.1229],\n",
      "        [-0.1863]])\n",
      "[[-1.1228564 ]\n",
      " [-0.18632829]]\n"
     ]
    }
   ],
   "source": [
    "x = torch.randn(2, 1)\n",
    "print(x)\n",
    "x_np = x.detach().cpu().numpy()\n",
    "print(x_np)"
   ]
  },
  {
   "cell_type": "markdown",
   "metadata": {},
   "source": [
    "Наличие тензора на `GPU` можно порверить директивой `is_cuda`"
   ]
  },
  {
   "cell_type": "code",
   "execution_count": 14,
   "metadata": {
    "scrolled": true
   },
   "outputs": [
    {
     "name": "stdout",
     "output_type": "stream",
     "text": [
      "False\n",
      "False\n"
     ]
    }
   ],
   "source": [
    "x = x.to(device)\n",
    "print(x.is_cuda)\n",
    "print(x.cpu().is_cuda)"
   ]
  },
  {
   "cell_type": "markdown",
   "metadata": {},
   "source": [
    "Также устройство и другие атрибуты тензора могут быть проверены следующими функциями"
   ]
  },
  {
   "cell_type": "code",
   "execution_count": 15,
   "metadata": {},
   "outputs": [
    {
     "name": "stdout",
     "output_type": "stream",
     "text": [
      "shape: torch.Size([2]), device: cpu, dtype: torch.int64, n dims: 1\n"
     ]
    }
   ],
   "source": [
    "x = torch.tensor([1,2]).to(device)\n",
    "print(f'shape: {x.shape}, device: {x.device}, dtype: {x.dtype}, n dims: {x.ndim}')"
   ]
  },
  {
   "cell_type": "markdown",
   "metadata": {},
   "source": [
    "Обратите внимание, что в торч методы `shape` и `size()` - это почти синонимы. Однако `shape` - это атрибут"
   ]
  },
  {
   "cell_type": "code",
   "execution_count": 16,
   "metadata": {},
   "outputs": [
    {
     "data": {
      "text/plain": [
       "(torch.Size([2]), torch.Size([2]))"
      ]
     },
     "execution_count": 16,
     "metadata": {},
     "output_type": "execute_result"
    }
   ],
   "source": [
    "x.shape, x.size()"
   ]
  },
  {
   "cell_type": "markdown",
   "metadata": {
    "id": "0wSlItXrd_mY"
   },
   "source": [
    "C [тензорами](https://pytorch.org/docs/stable/tensors.html#) можно проводить большенство тех-же операций, что и с массивами в `NumPy`"
   ]
  },
  {
   "cell_type": "code",
   "execution_count": 17,
   "metadata": {
    "colab": {
     "base_uri": "https://localhost:8080/"
    },
    "id": "kr49B2SPd_mY",
    "outputId": "0cfe9d58-9d6a-442a-cde2-d9bd9cbcaf8f",
    "scrolled": true
   },
   "outputs": [
    {
     "name": "stdout",
     "output_type": "stream",
     "text": [
      "tensor([[17.3806,  8.2677, 12.1663],\n",
      "        [13.3551, 15.6538, 18.0811]])\n",
      "tensor([[3.],\n",
      "        [3.]])\n",
      "[[17.38063  13.355056]\n",
      " [ 8.26774  15.653769]\n",
      " [12.16627  18.081142]]\n",
      "tensor([[480.4438, 352.7555, 452.9321],\n",
      "        [352.7555, 313.3960, 383.6256],\n",
      "        [452.9321, 383.6256, 474.9458]])\n"
     ]
    }
   ],
   "source": [
    "x = torch.randn(2, 3)\n",
    "\n",
    "y = torch.ones(2,3) * 2\n",
    "\n",
    "n = torch.tensor([[0,1,2],[3,4,5]]).type(dtype) # тип по умолчанию\n",
    "l = torch.FloatTensor([[5,6,7],[8,9,10]]) # тензор заданного типа\n",
    "m = torch.from_numpy(np.ones([2,3], dtype=np.float32)) * 0.1 \n",
    "\n",
    "#-------------------\n",
    "z = x + y*m + torch.exp(x)+torch.sqrt(n) + torch.pow(l,1.1)\n",
    "print(z)\n",
    "\n",
    "a = y[:,:1] + 1\n",
    "print(a)\n",
    "\n",
    "s = torch.transpose(z,0,1) #transposition with axis pointing\n",
    "\n",
    "print(s.detach().cpu().numpy())\n",
    "\n",
    "z = s@s.T #matrix multiplication\n",
    "print(z)\n"
   ]
  },
  {
   "cell_type": "markdown",
   "metadata": {
    "id": "M8J7byGNd_mY"
   },
   "source": [
    "В том числе не сложен и переход из `ndarray` в `tensor`"
   ]
  },
  {
   "cell_type": "code",
   "execution_count": 18,
   "metadata": {},
   "outputs": [
    {
     "name": "stdout",
     "output_type": "stream",
     "text": [
      "Numpy array: [[1 2]\n",
      " [3 4]]\n",
      "PyTorch tensor: tensor([[1, 2],\n",
      "        [3, 4]], dtype=torch.int32)\n"
     ]
    }
   ],
   "source": [
    "np_arr = np.array([[1, 2], [3, 4]])\n",
    "tensor = torch.from_numpy(np_arr)\n",
    "\n",
    "print(\"Numpy array:\", np_arr)\n",
    "print(\"PyTorch tensor:\", tensor)"
   ]
  },
  {
   "cell_type": "markdown",
   "metadata": {},
   "source": [
    "и переход обратно\n"
   ]
  },
  {
   "cell_type": "code",
   "execution_count": 19,
   "metadata": {
    "scrolled": true
   },
   "outputs": [
    {
     "name": "stdout",
     "output_type": "stream",
     "text": [
      "PyTorch tensor: tensor([0, 1, 2, 3])\n",
      "Numpy array: [0 1 2 3]\n"
     ]
    }
   ],
   "source": [
    "tensor = torch.arange(4)\n",
    "np_arr = tensor.numpy()\n",
    "\n",
    "print(\"PyTorch tensor:\", tensor)\n",
    "print(\"Numpy array:\", np_arr)"
   ]
  },
  {
   "cell_type": "markdown",
   "metadata": {},
   "source": [
    "<!-- >Важно заметить, что для преобразования тензоров в `numpy` требуется, чтобы тензор находился в распоряжении `CPU`, а не в памяти `GPU`. В случае если тензор находится на `GPU`, необходимо предварительно вызвать `.cpu()` на тензоре. Таким образом, вы получите строку типа `np_arr = tensor.cpu().numpy()` -->"
   ]
  },
  {
   "cell_type": "markdown",
   "metadata": {
    "id": "LhaFjsLFd_mY"
   },
   "source": [
    "Также важно знать, что некоторые операции в `pytorch` называются не как в `numpy`.\n",
    "\n",
    "В первую очередь тут стоит изучить варианты операций с умножением матриц. Это одна из наиболее часто-встречаемых операций в обучении нейронных сетей. По сути к состовной части этой операции сводится большенство операций на уровне вычислителя (например `flops=fma= floatpoint opeartion = float point multiplication and adding`.\n",
    "\n",
    "В нейронных сетях довольно часто мы имеем входной вектор $\\mathbf{x}$ который преобразуется с помощью обучаемой матрицы весов \n",
    "$\\mathbf{W}$. То есть выполняется операция $\\mathbf{x}\\mathbf{W}$.\n",
    "Существует множество способов и функций для выполнения умножения матриц, некоторые из них мы перечислим ниже:\n",
    "* `torch.matmul` выполняет матричное произведение над двумя тензорами, где конкретное поведение зависит от размерности. Если оба входа - матрицы (двумерные тензоры), то выполняется стандартное матричное произведение. Для входов большей размерности функция поддерживает т.н. трансляцию (`broadcasting `). Это операция сокращения лишних размерностей. \\\n",
    "Также операция `matmul` может быть записана как `a @ b`, аналогично `numpy`.\n",
    "* `torch.mm` : Выполняет матричное произведение над двумя матрицами, но не поддерживает `broadcasting`.\n",
    "* `torch.bmm`: Выполняет матричное произведение с использованием батчей. Если первый тензор $b\\times n\\times m$ и второй тензор $b\\times n \\times p$, то результат будет иметь размерность $b\\times m \\times p$ и будет вычисляться для каждого тензора из набора $b$.\n",
    "* `torch.einsum`: Выполняет умножение матриц и многое другое (т.е. суммы произведений), используя [соглашение о суммировании Эйнштейна](https://habr.com/ru/articles/544498/). То есть суммирование ведётся по всем индексам, повторяющимся дважды, например $b_i=\\sum_j A_{ji}v_j$ записывается как $A_{ji}v^j$\n",
    "\n",
    "__Среди этих операций в первую очередь важно понимать `mm` и `@`__"
   ]
  },
  {
   "cell_type": "code",
   "execution_count": 20,
   "metadata": {
    "scrolled": true
   },
   "outputs": [
    {
     "name": "stdout",
     "output_type": "stream",
     "text": [
      "tensor([[480.4438, 352.7555, 452.9321],\n",
      "        [352.7555, 313.3960, 383.6256],\n",
      "        [452.9321, 383.6256, 474.9458]])\n",
      "tensor([[480.4438, 352.7555, 452.9321],\n",
      "        [352.7555, 313.3960, 383.6256],\n",
      "        [452.9321, 383.6256, 474.9458]])\n",
      "tensor([[0.4000, 0.4000, 0.4000],\n",
      "        [0.4000, 0.4000, 0.4000],\n",
      "        [0.4000, 0.4000, 0.4000]])\n"
     ]
    }
   ],
   "source": [
    "z = s.matmul(s.T) #matrix multiplication\n",
    "print(z)\n",
    "\n",
    "z = s.mm(s.T) #matrix multiplication\n",
    "print(z)\n",
    "\n",
    "z = torch.mm(y.T, m) #matrix multiplication\n",
    "print(z)\n"
   ]
  },
  {
   "cell_type": "markdown",
   "metadata": {},
   "source": [
    "Также отдельно могут быть указаны операции:\n",
    "* умножение матрицы на вектор `torch.mv`\n",
    "* внутреннее умножение векторов `torch.dot`\n",
    "* внешнее умножение векторов `torch.outer`"
   ]
  },
  {
   "cell_type": "code",
   "execution_count": 21,
   "metadata": {},
   "outputs": [
    {
     "name": "stdout",
     "output_type": "stream",
     "text": [
      "tensor([0.4000, 0.4000, 0.4000])\n",
      "tensor(0.4000)\n",
      "tensor([[0.2000, 0.2000],\n",
      "        [0.2000, 0.2000]])\n"
     ]
    }
   ],
   "source": [
    "z = torch.mv(m.T,y[:,0]) #matrix to vector multiplication\n",
    "print(z)\n",
    "\n",
    "z = torch.dot(m[:,0],y[:,1]) #inner vector product\n",
    "print(z)\n",
    "\n",
    "z = torch.outer(m[:,0],y[:,1]) #inner vector product\n",
    "print(z)"
   ]
  },
  {
   "cell_type": "markdown",
   "metadata": {},
   "source": [
    "Второй тип специальных операций — это __представление__. Тут наиболее важной является операция `view`. Эта операция представляет один и тот же набор значений как тензоры разной размерности. Важно понимать, что функция не меняет расположение значений в памяти. При этом и переменная, содержащая тензор, остается на месте.\n",
    "> [Другими словами](https://pytorch.org/docs/stable/tensor_view.html). Обычно операции `PyTorch` возвращает новый тензор в качестве выходных данных, например, `add()`. Но в случае операций `view` выходные данные представляют собой представления входных тензоров в новом виде. Это необходимо, чтобы избежать ненужного копирования данных. При операции `view` данные не перемещаются, `view` просто изменяет способ интерпретации одних и тех же данных.\n",
    "\n",
    "<!-- > Отметим, также возможность более низкоуровневого управления памятью через `t.storage().data_ptr()` -->"
   ]
  },
  {
   "cell_type": "code",
   "execution_count": 22,
   "metadata": {},
   "outputs": [
    {
     "name": "stdout",
     "output_type": "stream",
     "text": [
      "tensor([[0.1053, 0.2695, 0.3588, 0.1994],\n",
      "        [0.5472, 0.0062, 0.9516, 0.0753],\n",
      "        [0.8860, 0.5832, 0.3376, 0.8090],\n",
      "        [0.5779, 0.9040, 0.5547, 0.3423]])\n",
      "tensor([[0.1053, 0.2695, 0.3588, 0.1994, 0.5472, 0.0062, 0.9516, 0.0753],\n",
      "        [0.8860, 0.5832, 0.3376, 0.8090, 0.5779, 0.9040, 0.5547, 0.3423]])\n"
     ]
    }
   ],
   "source": [
    "t = torch.rand(4, 4)\n",
    "print(t)\n",
    "b = t.view(2, 8)\n",
    "print(b)"
   ]
  },
  {
   "cell_type": "markdown",
   "metadata": {},
   "source": [
    "Индексирование `view` может использоваться с параметром `-1`. Это необходимо, если возникает ситуация, когда вы не знаете, например, сколько строк вам нужно, но уверены в количестве столбцов. Тогда число строк вы можете указать как `-1`. При этом назвав необходимое число столбцов, например `1`. То есть `-1` означает, что число строк будет вычислено автоматически. Обратите внимание, такое отображение можно распространить на тензоры с количеством измерений и больше `2`. Только одно из значений оси может быть `-1`). \n",
    "\n",
    "Посмотрим в примере ниже, как выглядит вектор, полученный из нашего тензора.\n"
   ]
  },
  {
   "cell_type": "code",
   "execution_count": 23,
   "metadata": {},
   "outputs": [
    {
     "name": "stdout",
     "output_type": "stream",
     "text": [
      "tensor([[0.2000, 0.2000, 0.2000, 0.2000]])\n"
     ]
    }
   ],
   "source": [
    "print(z.view(1,- 1)) #reshape"
   ]
  },
  {
   "cell_type": "markdown",
   "metadata": {},
   "source": [
    "Также функция `view` позволяет создавать новые «пустые» размерности данных. То есть размерности со значением $1$. Создадим новую размерность для нашего тензора в примере ниже."
   ]
  },
  {
   "cell_type": "code",
   "execution_count": 24,
   "metadata": {
    "colab": {
     "base_uri": "https://localhost:8080/"
    },
    "id": "siai1xdqd_mZ",
    "outputId": "cc65b583-2ea9-4201-972f-5f26b02f78b3",
    "scrolled": true
   },
   "outputs": [
    {
     "name": "stdout",
     "output_type": "stream",
     "text": [
      "torch.Size([2, 2])\n",
      "tensor([[[0.2000, 0.2000],\n",
      "         [0.2000, 0.2000]]])\n",
      "torch.Size([1, 2, 2])\n",
      "tensor([[[0.2000, 0.2000, 0.2000, 0.2000]]])\n"
     ]
    }
   ],
   "source": [
    "print(z.shape)# Добавим размерность\n",
    "print(z.view(1,*z.shape))# Добавим размерность\n",
    "print(z.view(1,*z.shape).shape)# посмотрим что это значит\n",
    "print(z.view(1,1,-1))# Добавим размерность"
   ]
  },
  {
   "cell_type": "markdown",
   "metadata": {},
   "source": [
    "Среди операций представления также важно отметить такие операции, как:\n",
    "* `torch.ravel` — создание одномерного массива из массива любой размерности (аналог `torch.flatten`);\n",
    "* `torch.permute` — перестановка размерностей (аналог `torch.transpose`);\n",
    "* `torch.squeeze` — удаление пустых размерностей (со значением `1`);\n",
    "* `torch.unsqueeze` — создание пустой размерности (со значением `1`);\n",
    "* `torch.reshape` — пересборка тензора в тензор заданной размерности (в т. ч. с добавлением размерности);\n",
    "* `torch.expand` — создание размерностей с копированием в них существующих данных.\n"
   ]
  },
  {
   "cell_type": "code",
   "execution_count": 25,
   "metadata": {
    "scrolled": true
   },
   "outputs": [
    {
     "name": "stdout",
     "output_type": "stream",
     "text": [
      "tensor([1, 2, 3])\n",
      "torch.Size([3])\n",
      "torch.Size([4, 3])\n",
      "tensor([[1, 2, 3],\n",
      "        [1, 2, 3],\n",
      "        [1, 2, 3],\n",
      "        [1, 2, 3]])\n"
     ]
    }
   ],
   "source": [
    "x = torch.tensor([1, 2, 3])\n",
    "print(x)\n",
    "print(x.size())\n",
    "print(x.expand(4, -1).shape)\n",
    "print(x.expand(4, -1))"
   ]
  },
  {
   "cell_type": "code",
   "execution_count": 26,
   "metadata": {},
   "outputs": [
    {
     "name": "stdout",
     "output_type": "stream",
     "text": [
      "torch.Size([4, 3])\n",
      "torch.Size([12]) torch.Size([12])\n"
     ]
    }
   ],
   "source": [
    "x = torch.tensor([1, 2, 3]).expand(4, -1)\n",
    "print(x.size())\n",
    "print(x.flatten().size(), x.ravel().size())"
   ]
  },
  {
   "cell_type": "markdown",
   "metadata": {},
   "source": [
    "Важно понимать, что в `torch` для экономии ресурсов новые тензора создаются только по необходимости. \n",
    "Например, если необходимо в ручном режиме создать \"новый тензор\", то для этого используется операция `clone()`."
   ]
  },
  {
   "cell_type": "code",
   "execution_count": 27,
   "metadata": {},
   "outputs": [],
   "source": [
    "a = x\n",
    "b = x.clone()"
   ]
  },
  {
   "cell_type": "markdown",
   "metadata": {},
   "source": [
    "Крайне важной является __операция объединения тензоров__ `cat`. Объединение может происходить по разным размерностям, указанным в атрибуте `dim`. Объединяемые тензоры должны иметь одинаковые размерности или быть одномерными тензорами с размером `0`. Размерность объединения может быть задана как `-1`, если число размерностей неизвестно."
   ]
  },
  {
   "cell_type": "code",
   "execution_count": 28,
   "metadata": {
    "colab": {
     "base_uri": "https://localhost:8080/"
    },
    "id": "ez7ItCC_d_mZ",
    "outputId": "3e5018ec-9315-4ab0-c7ae-4adcb9c7372b"
   },
   "outputs": [
    {
     "name": "stdout",
     "output_type": "stream",
     "text": [
      "torch.Size([4, 3]) torch.Size([2, 3]) torch.Size([2, 3])\n",
      "torch.Size([2, 6])\n",
      "torch.Size([2, 6])\n"
     ]
    }
   ],
   "source": [
    "x = torch.randn(2, 3)\n",
    "\n",
    "y = torch.ones(2,3) * 2\n",
    "\n",
    "z = torch.cat([x,y]) #dim = 0\n",
    "print(z.shape,x.shape,y.shape)\n",
    "\n",
    "z = torch.cat([x,y], dim=1)\n",
    "print(z.shape)\n",
    "\n",
    "z = torch.cat([x,y], dim=-1)\n",
    "print(z.shape)"
   ]
  },
  {
   "cell_type": "markdown",
   "metadata": {},
   "source": [
    "Также важно знать и другие способы объединения тензоров:\n",
    "* `torch.stack` — объединение тензоров по новой размерности.\n",
    "* `torch.split` — разъединение тензоров по существующей размерности."
   ]
  },
  {
   "cell_type": "code",
   "execution_count": 29,
   "metadata": {},
   "outputs": [
    {
     "name": "stdout",
     "output_type": "stream",
     "text": [
      "torch.Size([2, 3])\n",
      "torch.Size([2, 2, 3])\n",
      "torch.Size([1, 2, 3]) torch.Size([1, 2, 3])\n"
     ]
    }
   ],
   "source": [
    "x = torch.randn(2, 3)\n",
    "print(x.shape)\n",
    "x = torch.stack((x, x))\n",
    "print(x.shape)\n",
    "x = torch.split(x,1)\n",
    "print(x[0].shape, x[1].shape )"
   ]
  },
  {
   "cell_type": "markdown",
   "metadata": {
    "id": "XiCBTdz3d_mZ"
   },
   "source": [
    "Также в `PyTorch` есть ряд специфических операций, адаптированных под цели его использования."
   ]
  },
  {
   "cell_type": "code",
   "execution_count": 30,
   "metadata": {
    "colab": {
     "base_uri": "https://localhost:8080/"
    },
    "id": "jChX6xUHd_mZ",
    "outputId": "7209cfd3-b937-42ea-caf0-9bf8e72d6da3"
   },
   "outputs": [
    {
     "name": "stdout",
     "output_type": "stream",
     "text": [
      "saved t: tensor([1., 2.])\n",
      "tensor does not exist\n",
      "new t: tensor([1., 2.])\n"
     ]
    }
   ],
   "source": [
    "t = torch.tensor([1., 2.])\n",
    "torch.save(t, 'tensor4test.pt')\n",
    "print('saved t:',t)\n",
    "\n",
    "del(t)\n",
    "\n",
    "try:\n",
    "    print(t)\n",
    "except:\n",
    "    print('tensor does not exist')\n",
    "    \n",
    "t_new = torch.load('tensor4test.pt')\n",
    "print('new t:',t_new)\n",
    "\n"
   ]
  },
  {
   "cell_type": "markdown",
   "metadata": {
    "id": "71KmuzX6d_mZ"
   },
   "source": [
    "*Отметим*, что в ряде случаев в `PyTorch` возможны два типа функций с именами вида   `foo(bar)` и `foo_(bar)`. Для таких случаев разница в том, что вариант вида  `foo(bar)`  является т.н. `immutable` функцией - то есть результ будет новым тензором в памяти. В противоположность ей функция вида `foo_(bar)` изменяет изначальный тензор, т.е. является `mutable` функцией. Последние ещё носят название `inplace` функций."
   ]
  },
  {
   "cell_type": "code",
   "execution_count": 31,
   "metadata": {
    "colab": {
     "base_uri": "https://localhost:8080/"
    },
    "id": "JyHKt8ahd_ma",
    "outputId": "c17ef7a0-66cc-411f-9362-df0481a9d215",
    "scrolled": true
   },
   "outputs": [
    {
     "name": "stdout",
     "output_type": "stream",
     "text": [
      "inputs:\n",
      " tensor([[ 0.1331,  0.8640, -1.0157],\n",
      "        [-0.8887,  0.1498, -0.2089]]) \n",
      " tensor([[2., 2., 2.],\n",
      "        [2., 2., 2.]]) \n",
      "\n",
      "result imutable\n",
      " tensor([[2.1331, 2.8640, 0.9843],\n",
      "        [1.1113, 2.1498, 1.7911]])\n",
      "\n",
      "result mutable\n",
      " tensor([[2.1331, 2.8640, 0.9843],\n",
      "        [1.1113, 2.1498, 1.7911]])\n"
     ]
    }
   ],
   "source": [
    "x = torch.randn(2, 3)\n",
    "y = torch.ones(2,3) * 2\n",
    "print('inputs:\\n',x,'\\n',y,'\\n');\n",
    "z = torch.add(x,y)\n",
    "print('result imutable\\n',z)\n",
    "x.add_(y)\n",
    "print('\\nresult mutable\\n',x)"
   ]
  },
  {
   "cell_type": "markdown",
   "metadata": {},
   "source": [
    "### Задание"
   ]
  },
  {
   "cell_type": "markdown",
   "metadata": {},
   "source": [
    "**1.** Реализовать функцию, выполняющую операцию *полносвязного слоя* в `pytorch`:\n",
    "1. для вектора.\n",
    "2. для матрицы.\n",
    "3. для тензора произвольной размерности."
   ]
  },
  {
   "cell_type": "code",
   "execution_count": null,
   "metadata": {},
   "outputs": [],
   "source": []
  },
  {
   "cell_type": "markdown",
   "metadata": {
    "id": "B3uPWnG4d_ma"
   },
   "source": [
    "### *При первом знакомстве с  `PyTorch` этот пример можно не изучать.*\n",
    "\n",
    ">В `PyTorch` есть возможность для осуществления т.н. `bradcast` операций. Такие операции могут выполнены между тензорами, имеющими разную размерность, при условиях, что: начиная с конца размерности совпадают или промежуточные размерности имеют значение `1`."
   ]
  },
  {
   "cell_type": "code",
   "execution_count": 32,
   "metadata": {
    "colab": {
     "base_uri": "https://localhost:8080/"
    },
    "id": "5XE_Fze3d_ma",
    "outputId": "7f5e1444-4570-4817-ea1a-5ed0b3460074"
   },
   "outputs": [
    {
     "name": "stdout",
     "output_type": "stream",
     "text": [
      "Case 1: input x:torch.Size([2, 3]), y:torch.Size([2, 2, 3]), output torch.Size([2, 2, 3])\n",
      "\n",
      "Case 2: input x:torch.Size([2, 1, 3]), y:torch.Size([2, 3]), output torch.Size([2, 2, 3])\n",
      "\n",
      "Case 3: input x:torch.Size([2, 1, 1, 1, 1, 3]), y:torch.Size([2, 2, 3]), output torch.Size([2, 1, 1, 2, 2, 3])\n",
      "\n",
      "Case 4: input x:torch.Size([1, 2, 1, 1, 3]), y:torch.Size([2, 2, 3]), output torch.Size([1, 2, 2, 2, 3])\n",
      "\n",
      "Case 5: input x:torch.Size([5, 6, 3, 3]), y:torch.Size([3, 3]), output torch.Size([5, 6, 3, 3])\n",
      "\n"
     ]
    }
   ],
   "source": [
    "x = torch.randn(  2,3)\n",
    "y = torch.randn(2,2,3)\n",
    "# print((x+y), end='\\n\\n')\n",
    "print(f'Case 1: input x:{x.shape}, y:{y.shape}, output {(x+y).shape}', end='\\n\\n')\n",
    "\n",
    "x = torch.randn(2,1,3)\n",
    "y = torch.randn(2,  3)\n",
    "# print((x+y), end='\\n\\n')\n",
    "print(f'Case 2: input x:{x.shape}, y:{y.shape}, output {(x+y).shape}', end='\\n\\n')\n",
    "\n",
    "\n",
    "x = torch.randn(2,1,1,1,1,3)\n",
    "y = torch.randn(2, 2, 3)\n",
    "print(f'Case 3: input x:{x.shape}, y:{y.shape}, output {(x+y).shape}', end='\\n\\n')\n",
    "\n",
    "x = torch.randn(1,2,1,1,3)\n",
    "y = torch.randn(2, 2, 3)\n",
    "print(f'Case 4: input x:{x.shape}, y:{y.shape}, output {(x+y).shape}', end='\\n\\n')\n",
    "\n",
    "x = torch.randn(5,6,3,3)\n",
    "y = torch.randn(    3,3)\n",
    "print(f'Case 5: input x:{x.shape}, y:{y.shape}, output {(x+y).shape}', end='\\n\\n')\n"
   ]
  },
  {
   "cell_type": "markdown",
   "metadata": {
    "id": "MR8hLrnCd_ma"
   },
   "source": [
    ">Также отметим, что в некоторых функциях возможен вариант с дополнительным указанем выходного тензора в качестве аргумента"
   ]
  },
  {
   "cell_type": "code",
   "execution_count": 33,
   "metadata": {
    "colab": {
     "base_uri": "https://localhost:8080/"
    },
    "id": "XxJbWwX8d_ma",
    "outputId": "46dd67f1-fb70-4656-f620-25b1ce800f0b"
   },
   "outputs": [
    {
     "name": "stdout",
     "output_type": "stream",
     "text": [
      "tensor([[2.6592, 0.8693, 2.2229],\n",
      "        [3.2297, 2.1355, 0.5584]])\n"
     ]
    }
   ],
   "source": [
    "x = torch.randn(2, 3)\n",
    "y = torch.ones(2,3) * 2\n",
    "\n",
    "d = torch.zeros_like(x)\n",
    "\n",
    "torch.add(x,y,out = d)\n",
    "print(d)"
   ]
  },
  {
   "cell_type": "code",
   "execution_count": 34,
   "metadata": {
    "colab": {
     "base_uri": "https://localhost:8080/"
    },
    "id": "G-QjKx0kd_ma",
    "outputId": "c61920fa-9cc0-4bee-cffd-5b89f676c4b2"
   },
   "outputs": [
    {
     "data": {
      "text/plain": [
       "(2.6592259407043457, torch.Size([2, 3]), torch.Size([2, 3]))"
      ]
     },
     "execution_count": 34,
     "metadata": {},
     "output_type": "execute_result"
    }
   ],
   "source": [
    "d[0,0].item(), d.size(), d.shape, "
   ]
  },
  {
   "cell_type": "markdown",
   "metadata": {
    "id": "p7zBU4aRd_mb"
   },
   "source": [
    ">По умолчанию в  `PyTorch` любое присвоение элементов тензоров происходит по ссылке то есть  `mutable` или т.н. `shallow` копирование. Такое поведение аналогично `NumPy`. Чтобы избежать данного эффекта и создать действительно новый тензор следует использовать метод `clone()`."
   ]
  },
  {
   "cell_type": "code",
   "execution_count": 35,
   "metadata": {
    "colab": {
     "base_uri": "https://localhost:8080/"
    },
    "id": "TNpk4XqEd_mb",
    "outputId": "cf68097f-32e6-476b-bea6-d78ca5278cfb"
   },
   "outputs": [
    {
     "name": "stdout",
     "output_type": "stream",
     "text": [
      "tensor([[ 0.6592, -1.1307,  0.2229],\n",
      "        [ 1.2297,  0.1355, -1.4416]])\n",
      "tensor([[100.0000,  -1.1307,   0.2229],\n",
      "        [  1.2297,   0.1355,  -1.4416]])\n",
      "tensor([[ 0.6592, -1.1307,  0.2229],\n",
      "        [ 1.2297,  0.1355, -1.4416]])\n"
     ]
    }
   ],
   "source": [
    "a = x\n",
    "b = x.clone()\n",
    "print(a)\n",
    "x[0,0]=100\n",
    "print(a)\n",
    "print(b)"
   ]
  },
  {
   "cell_type": "markdown",
   "metadata": {},
   "source": [
    "### Нелинейные операторы в `PyTorch`\n",
    "Помимо рассмотренных выше примеров кратко отметим возможности `torch` для работы с нейронными сетями."
   ]
  },
  {
   "cell_type": "markdown",
   "metadata": {
    "id": "G7Lgv-Xld_mb"
   },
   "source": [
    "Также посмотрим на то какие стандартные функции активации и слои имеются в `PyTroch`."
   ]
  },
  {
   "cell_type": "code",
   "execution_count": 36,
   "metadata": {
    "colab": {
     "base_uri": "https://localhost:8080/"
    },
    "id": "LHRCLdxFqO7F",
    "outputId": "e136b42e-15d3-4890-9b39-ef752fc3cd7f"
   },
   "outputs": [
    {
     "name": "stdout",
     "output_type": "stream",
     "text": [
      "tensor([-1.5408, -1.9235]) ReLU: tensor([0., 0.])\n"
     ]
    }
   ],
   "source": [
    "data = torch.randn(2)\n",
    "print(data, 'ReLU:', torch.relu(data))"
   ]
  },
  {
   "cell_type": "code",
   "execution_count": 37,
   "metadata": {
    "colab": {
     "base_uri": "https://localhost:8080/"
    },
    "id": "4Y2CJUyXqO7F",
    "outputId": "86de4c59-32c3-4e69-f925-8b14013aa69c"
   },
   "outputs": [
    {
     "name": "stdout",
     "output_type": "stream",
     "text": [
      "tensor([-0.4828,  0.9609]) Sigmoid: tensor([0.3816, 0.7233])\n"
     ]
    }
   ],
   "source": [
    "data = torch.randn(2)\n",
    "print(data, 'Sigmoid:', torch.sigmoid(data))\n"
   ]
  },
  {
   "cell_type": "markdown",
   "metadata": {
    "id": "3s_lIMvwd_mc"
   },
   "source": [
    "Большинство стандартных элементов архитектур нейронных сетей могут быть найдены в модуле `torch.nn`. Данный модуль включает `API` двух типов: в стиле классов и в процедурном стиле (функции). Для работы с последним необходим подмодуль `torch.nn.functional`. В том числе, модуль `torch.nn` включает типичные функции активации и слои.\n",
    "\n",
    "Также отметим, что в `PyTorch`, как и в целом в `Python`, принято, что класс называется с большой буквы, а соответствующая процедура — с маленькой."
   ]
  },
  {
   "cell_type": "code",
   "execution_count": 38,
   "metadata": {
    "id": "NEHiUE6Ed_mc"
   },
   "outputs": [],
   "source": [
    "from torch import nn"
   ]
  },
  {
   "cell_type": "code",
   "execution_count": 39,
   "metadata": {
    "colab": {
     "base_uri": "https://localhost:8080/"
    },
    "id": "tokvHN5OqO7F",
    "outputId": "5312d23c-2b35-45ba-c072-94ec1e933e40"
   },
   "outputs": [
    {
     "name": "stdout",
     "output_type": "stream",
     "text": [
      "tensor([ 0.6453, -0.2825]) GeLU: tensor([ 0.4780, -0.1098])\n"
     ]
    }
   ],
   "source": [
    "data = torch.randn(2)\n",
    "print(data, 'GeLU:', torch.nn.functional.gelu(data))"
   ]
  },
  {
   "cell_type": "code",
   "execution_count": 40,
   "metadata": {
    "colab": {
     "base_uri": "https://localhost:8080/"
    },
    "id": "r9IsGKdAqO7F",
    "outputId": "e75b085f-68ff-4b23-b5cb-c8395e6375b5"
   },
   "outputs": [
    {
     "name": "stdout",
     "output_type": "stream",
     "text": [
      "tensor([[ 0.3895, -0.9762, -0.1696],\n",
      "        [ 0.6772,  0.3795,  0.1057]], grad_fn=<AddmmBackward0>) torch.Size([2, 3])\n"
     ]
    }
   ],
   "source": [
    "# Applies a linear transformation to the incoming data: :math:`y = xA^T + b`\n",
    "layer = nn.Linear(5, 3)  # maps from R^5 to R^3, parameters A, b\n",
    "data = torch.randn(2, 5)# data is 2x5. \n",
    "print(layer(data), layer(data).size()) "
   ]
  },
  {
   "cell_type": "code",
   "execution_count": 41,
   "metadata": {
    "colab": {
     "base_uri": "https://localhost:8080/"
    },
    "id": "txAHoOtbqO7F",
    "outputId": "77d992f5-1649-4081-af08-884ce3e87417"
   },
   "outputs": [
    {
     "name": "stdout",
     "output_type": "stream",
     "text": [
      "tensor([[[-0.0427],\n",
      "         [ 1.1259],\n",
      "         [ 0.7971]]], grad_fn=<ConvolutionBackward0>) torch.Size([1, 3, 1])\n"
     ]
    }
   ],
   "source": [
    "layer = nn.Conv1d(in_channels  = 5,\n",
    "                out_channels = 3,\n",
    "                kernel_size  = 2,\n",
    "                stride       = 1,\n",
    "                padding_mode = 'zeros',)  \n",
    "\n",
    "data = torch.randn(1, 5, 2)\n",
    "print(layer(data), layer(data).size())  "
   ]
  },
  {
   "cell_type": "code",
   "execution_count": 42,
   "metadata": {
    "colab": {
     "base_uri": "https://localhost:8080/"
    },
    "id": "8bDfI9AkqO7F",
    "outputId": "141bd70d-710d-43e3-83a1-f968e979b440"
   },
   "outputs": [
    {
     "name": "stdout",
     "output_type": "stream",
     "text": [
      "tensor([[[ 0.1188],\n",
      "         [ 0.3981],\n",
      "         [ 0.8526],\n",
      "         [-0.0187],\n",
      "         [ 1.1936]]]) torch.Size([1, 5, 1])\n"
     ]
    }
   ],
   "source": [
    "layer = nn.MaxPool1d(kernel_size = 2,\n",
    "                   stride      = 1)  \n",
    "data = torch.randn(1, 5, 2)\n",
    "print(layer(data), layer(data).size())  "
   ]
  },
  {
   "cell_type": "code",
   "execution_count": 43,
   "metadata": {
    "colab": {
     "base_uri": "https://localhost:8080/"
    },
    "id": "oGdRLMUcqO7G",
    "outputId": "9fc01e8c-37dc-4067-fadd-c87be6573b73"
   },
   "outputs": [
    {
     "name": "stdout",
     "output_type": "stream",
     "text": [
      "tensor([[[[ 0.4319],\n",
      "          [ 0.8461],\n",
      "          [-0.2344]],\n",
      "\n",
      "         [[-0.0280],\n",
      "          [ 0.5190],\n",
      "          [ 0.9546]],\n",
      "\n",
      "         [[ 0.1572],\n",
      "          [-0.4684],\n",
      "          [ 0.4720]]]], grad_fn=<ConvolutionBackward0>) torch.Size([1, 3, 3, 1])\n"
     ]
    }
   ],
   "source": [
    "layer = nn.Conv2d(in_channels  = 5,\n",
    "                  out_channels = 3,\n",
    "                  kernel_size  = 2,\n",
    "                  stride       = 1,\n",
    "                  padding_mode = 'zeros',)  \n",
    "\n",
    "data = torch.randn(1, 5, 4, 2)\n",
    "print(layer(data), layer(data).size())  "
   ]
  },
  {
   "cell_type": "code",
   "execution_count": 44,
   "metadata": {
    "colab": {
     "base_uri": "https://localhost:8080/"
    },
    "id": "rvJtoj5dqO7G",
    "outputId": "1375725c-eb24-4c06-abf1-7052522974f9",
    "scrolled": true
   },
   "outputs": [
    {
     "name": "stdout",
     "output_type": "stream",
     "text": [
      "tensor([[[-0.2072, -0.4225],\n",
      "         [ 0.5995, -0.3713]],\n",
      "\n",
      "        [[-0.1069, -0.3730],\n",
      "         [ 0.1897, -0.5769]],\n",
      "\n",
      "        [[-0.0963, -0.1926],\n",
      "         [-0.0136, -0.4512]]], grad_fn=<StackBackward0>) torch.Size([3, 2, 2])\n"
     ]
    }
   ],
   "source": [
    "rnn  = nn.RNN(3, 2, 2) \n",
    "data = torch.randn(3, 2, 3)\n",
    "h0   = torch.randn(2, 2, 2)\n",
    "c0   = torch.randn(2, 2, 2)\n",
    "output, hn = rnn(data, h0)\n",
    "print(output, output.size()) \n"
   ]
  },
  {
   "cell_type": "markdown",
   "metadata": {},
   "source": [
    "## Задание"
   ]
  },
  {
   "cell_type": "markdown",
   "metadata": {},
   "source": [
    "**1.** Реализуйте несколько функций активации и их производных в `PyTorch` для вектора. Например [`LeakyReLu`](https://paperswithcode.com/method/leaky-relu), [`hswish`](https://paperswithcode.com/method/hard-swish), [`hard-sigmoid`](https://paperswithcode.com/method/hard-sigmoid). "
   ]
  },
  {
   "cell_type": "code",
   "execution_count": null,
   "metadata": {},
   "outputs": [],
   "source": []
  },
  {
   "cell_type": "markdown",
   "metadata": {},
   "source": [
    "**2.** Построить графики функций `ELU`, `ReLU`, `Sigmoid` и графики для их производных на отрезках $[-5,5]$."
   ]
  },
  {
   "cell_type": "code",
   "execution_count": null,
   "metadata": {},
   "outputs": [],
   "source": []
  },
  {
   "cell_type": "markdown",
   "metadata": {
    "id": "kMGmW13bd_md"
   },
   "source": [
    "# Автодифференцирование\n",
    "## Понятие \"Автодифференцирование\"\n",
    "\n",
    "Одна из главных причин использования `PyTorch` в проектах глубокого обучения заключается в том, что мы можем автоматически рассчитывать градиенты / производные от функций, которые мы определяем. Эта функция называется [\"Автодифференцирование\" (__autograd__)](https://pytorch.org/docs/stable/notes/autograd.html).  В основном мы будем использовать `PyTorch` для реализации нейронных сетей, а в сущности это всего лишь сложные функции с настраиваемыми параметрами.  \n",
    "\n",
    "> Напомним, что если бы  нейронная сеть выдавала одно скалярное значение, мы бы говорили о получении производной, но вы увидите, что довольно часто у нас будет несколько выходных переменных (“значений”); в этом случае мы говорим о градиентах. Это более общий термин.\n",
    "\n",
    "Как правило, мы определяем нейронную сеть как функцию входных данных $x$ и весовых коэффициентов (а также других параметров) $W$. Когда мы манипулируем нашими входными данными $x$, мы создаем __вычислительный граф__, то есть последовательность операций с входными данными. В каком-то смысле на графе показано, как получить результат на основе входных данных.\n",
    "\n",
    "Фреймворк `PyTorch` автоматически собирает этот вычислительный граф. Это означает, что мы можем просто выполнять наши манипуляции, а `PyTorch` будет отслеживать их положение в графе за нас. В случае `PyTorch` мы создаем динамический график вычислений. То есть формируем его попутно описанию этих вычислений.\n",
    "\n",
    "\n",
    "\n",
    ">__Примечание__: зачем нам нужны градиенты? Предположим, что мы определили описание нейронной сети, которая должна вычислять определенный результат $\\hat{y}$ для входного вектора $x$. Затем мы определяем показатель ошибки $e$, который показывает нам, насколько ошибочна наша сеть и насколько плохо она справляется с прогнозированием выходных данных $y$ на основе входных данных. Основываясь на этом измерении погрешности, мы можем использовать градиенты для обновления весовых коэффициентов $W$, которые отвечали за преобразования выходных данных, чтобы в следующий раз результаты были ближе к тому, что мы хотим. /\n",
    "> Для этого мы будем использовать метод т.н. обратного распростроения ошибки (__back propagation__).  Суть метода заключается в следующем. Известно, что вектор градиента направлен в сторону увеличения какой либо функции. Тогда следует ожидать, что вектор в обратную сторону (минус градиент) будет направлен в сторону уменьшения. Таким образом, минус градиент ошибки по параметрам $W$ ($-\\delta e/ \\delta W$) приведет нас к оптимальному значению (минимуму) ошибки.\n",
    " \n"
   ]
  },
  {
   "cell_type": "markdown",
   "metadata": {},
   "source": [
    "Для работы с автодифференцированием в библиотеке `PyTorch` имеется ряд встроенных функций, которые могут быть автоматически вызваны в коде. \n",
    "Для осуществления автоматизированной работы с тензорами в `PyTorch` предусмотрен аргумент `requires_grad`, который должен быть помечен как `true`. Создадим тензор входных данных x (без градиента) и два тензора переменных коэффициентов `w` и `b` (с градиентом). Если тензор не включает расчет градиента, то его параметры не будут участвовать в автодифференцировании. \n",
    ">Отметим, что в некоторых руководствах вы можете встретить тип переменной `Variable`. В первых версиях `PyTorch` данный тип предполагался как отдельный тип для переменных, в которых будет проводиться расчет градиента. Однако в последних версиях `PyTorch` возможность расчета автоградиента включена во все тензоры.\n",
    "> Также отметим, что в целом класс автодифференцирования [может быть переписан](https://douglasorr.github.io/2021-11-autodiff/article.html) под свои нужды.\n",
    "В текущей версии `PyTorch` по умолчанию тензора задаются без градиентов!"
   ]
  },
  {
   "cell_type": "markdown",
   "metadata": {},
   "source": [
    "<blockquote>\n",
    "\n",
    "Концептуально, __autograd__ хранит запись данных (тензоров) и всех выполненных операций (вместе с результирующими новыми тензорами) в направленном ациклическом графе (__DAG__), состоящем из объектов-функций. В этом DAG веndb являются входными тензорами, корни — выходными тензорами. Проследив этот график от корней до окончаний ответвлений, вы можете автоматически вычислить градиенты, используя [правило цепного дифференцирования](https://explained.ai/matrix-calculus/).\n",
    "При прямом проходе __autograd__ одновременно делает две вещи:\n",
    "* запустить запрошенную операцию для вычисления результирующего тензора и\n",
    "* сохранить функцию градиента операции в __DAG__.\n",
    "Обратный проход начинается, когда `.backward()` вызывается в корне __DAG__. __autograd__ тогда:\n",
    "* вычисляет градиенты для каждого `.grad_fn`,\n",
    "* накапливает их в атрибуте `.grad` соответствующего тензора и\n",
    "* цепное правило распространяется вплоть до листовых тензоров.\n",
    "DAG в PyTorch строится динамически. Важно отметить, что граф создается заново с нуля после каждого вызова `.backward()`. Это позволяет гибко управлять обучением модели. Например, при необходимости можно изменять форму, размер и операции на каждой итерации.\n",
    "<!-- Ниже показано визуальное представление группы обеспечения доступности баз данных в нашем примере. На графике стрелки направлены в направлении прямого прохода. Узлы представляют обратные функции каждой операции прямого прохода. Листовые узлы, выделенные синим цветом, представляют наши листовые тензоры a и b. -->"
   ]
  },
  {
   "cell_type": "markdown",
   "metadata": {},
   "source": [
    "Про обратное распростронение ошибки можно найти [тут](https://mlu-explain.github.io/neural-networks/) и  [тут](https://dafriedman97.github.io/mlbook/content/c7/concept.html#back-propagation) и [тут](https://deepschool-pro.notion.site/1-db393ba62f0e49cfa3c29a615006e796).\n"
   ]
  },
  {
   "cell_type": "markdown",
   "metadata": {},
   "source": [
    "> Отметим, отдельно [некоторые особенности](https://github.com/Devinterview-io/pytorch-interview-questions) метода автодифференцирования. В `PyTorch` атрибут `.grad` в тензорах выполняет важнейшую функцию, отслеживая градиенты в процессе обратного распространения, что в конечном итоге позволяет проводить автоматическое дифференцирование. Этот механизм является основополагающим для обучения нейронных сетей.\n",
    "> * __Накопление градиента__, Если установлено значение `requires_grad = True`, тензор  накапливает градиенты, тем самым формируя основу для обратного распространения. \n",
    "> * __Запись вычислительных графов__. Метод `autograd` записывает  связи между операциями и тензорами, обеспечивая обратное распространение ошибки (для получения производных).\n",
    "> * __Определение операций в обратном режиме__  Метод `.backward()` запускает вычисление производных через вычислительный граф в обратном порядке вызова функций.\n",
    "> В случаях, _когда градиенты не требуются_, его вычисление лучше отключить. По двум причинам:\n",
    "> * __Эффективность кода__. Отказ от вычисления градиентов позволяет упростить выполнение кода и сэкономить вычислительные ресурсы.\n",
    "> * __Предотвращение отслеживания градиентов__. Директива `.no_grad()` полезна, если вы не хотите, чтобы последовательность операций была частью вычислительного графа и не влияла на будущие вычисления градиента"
   ]
  },
  {
   "cell_type": "code",
   "execution_count": 45,
   "metadata": {},
   "outputs": [
    {
     "name": "stdout",
     "output_type": "stream",
     "text": [
      "False\n"
     ]
    }
   ],
   "source": [
    "x = torch.ones((3,))\n",
    "print(x.requires_grad)"
   ]
  },
  {
   "cell_type": "code",
   "execution_count": 46,
   "metadata": {
    "colab": {
     "base_uri": "https://localhost:8080/"
    },
    "id": "_6KsnLXGd_md",
    "outputId": "2530fc60-8920-4cfb-e60d-3dcfa8b781f1"
   },
   "outputs": [
    {
     "name": "stdout",
     "output_type": "stream",
     "text": [
      "tensor([3., 4.]) tensor([4., 8.], requires_grad=True) tensor(5., requires_grad=True)\n"
     ]
    }
   ],
   "source": [
    "x = torch.tensor([3.,4.])\n",
    "w = torch.tensor([4.,8], requires_grad=True)\n",
    "b = torch.tensor(5., requires_grad=True)\n",
    "print(x,w,b)"
   ]
  },
  {
   "cell_type": "markdown",
   "metadata": {},
   "source": [
    "Для всех тензоров можно узнать значения градиентов для них. Если градиент для функции не посчитан, то его значение будет `None`."
   ]
  },
  {
   "cell_type": "code",
   "execution_count": 47,
   "metadata": {},
   "outputs": [
    {
     "name": "stdout",
     "output_type": "stream",
     "text": [
      "current gradient: None None None\n"
     ]
    }
   ],
   "source": [
    "print('current gradient:',x.grad,w.grad,b.grad)"
   ]
  },
  {
   "cell_type": "markdown",
   "metadata": {},
   "source": [
    "Кроме того необходимость расчета градиента может быть задана в ходе работы. Например, если мы решим заморозить значение `b` для модели (допустим мы его обучили) то это можно сделать следующим образом:  "
   ]
  },
  {
   "cell_type": "code",
   "execution_count": 48,
   "metadata": {},
   "outputs": [
    {
     "name": "stdout",
     "output_type": "stream",
     "text": [
      "tensor(5.)\n",
      "tensor(5., requires_grad=True)\n"
     ]
    }
   ],
   "source": [
    "b.requires_grad = False\n",
    "print(b)\n",
    "b.requires_grad = True\n",
    "print(b)"
   ]
  },
  {
   "cell_type": "markdown",
   "metadata": {},
   "source": [
    "Значение градиента может быть получено для тензора при помощи метода `.backward(retain_graph=True)`. Также значение может быть задано или получено/обновлено (чаще всего обнулено), обращаясь к данным градиента, например `grad.data.zero_()`. Однако эту процедуру можно провести только для установленного значения градиента."
   ]
  },
  {
   "cell_type": "markdown",
   "metadata": {
    "id": "TlM4lG6Zd_md"
   },
   "source": [
    "Построим теперь некоторую простейшую модель $\\hat y = xW+b = \\sum_{i=0}^1{x_iw_i}+b = x_1w_1+x_2w_2+b$, которая по сути представляет собой модель линейной регрессии для двух параметров $x_0$ и $x_1$. "
   ]
  },
  {
   "cell_type": "code",
   "execution_count": 49,
   "metadata": {
    "colab": {
     "base_uri": "https://localhost:8080/"
    },
    "id": "TIqNg0sZd_md",
    "outputId": "187bb11c-fb14-4779-f10e-e81084da342e"
   },
   "outputs": [
    {
     "name": "stdout",
     "output_type": "stream",
     "text": [
      "tensor(49., grad_fn=<AddBackward0>)\n"
     ]
    }
   ],
   "source": [
    "y = x@w+b\n",
    "print(y)"
   ]
  },
  {
   "cell_type": "markdown",
   "metadata": {},
   "source": [
    "Обратите внимание, тут переменная `y` указана с функцией\n",
    "по которой будет градиент. "
   ]
  },
  {
   "cell_type": "code",
   "execution_count": 50,
   "metadata": {},
   "outputs": [
    {
     "name": "stdout",
     "output_type": "stream",
     "text": [
      "<AddBackward0 object at 0x0000019D45FE5060>\n"
     ]
    }
   ],
   "source": [
    "print(y.grad_fn)"
   ]
  },
  {
   "cell_type": "markdown",
   "metadata": {
    "id": "YWx4px7cd_md"
   },
   "source": [
    "Допустим, что у нас есть целевое значение  `[50]`, расчитаем ошибку нашей модели."
   ]
  },
  {
   "cell_type": "code",
   "execution_count": 51,
   "metadata": {
    "id": "iYnUdCbxd_md"
   },
   "outputs": [],
   "source": [
    "y_label = torch.tensor([50])\n",
    "error = y_label - y"
   ]
  },
  {
   "cell_type": "markdown",
   "metadata": {
    "id": "GLq3lPHRd_md"
   },
   "source": [
    "Для данной модели произведем автодифференцирование.\n",
    "\n",
    "__Отметим__, что такая процедура выполняется для скалярной функции.\n",
    "\n",
    "Также важно отметить, что предполагается, что градиент будет посчитан единожды, прежде чем полученные значения будут где-то использованы.\n",
    "\n",
    "Поэтому., __после использования градиента, его значения должны быть заменены нулями.__\n",
    "\n",
    "В нашем примере метод `backward` будет означать расчет производной по обоим нашим параметрам. Поэтому после процедуры расчета можно будет получить значения при помощи метода `grad`. А также мы сможем обновить градиенты `data.zero_()`."
   ]
  },
  {
   "cell_type": "markdown",
   "metadata": {},
   "source": [
    "Напомним что в нашем случае $\\frac{\\delta e}{\\delta W} = -x$; $\\frac{\\delta e}{\\delta b} = -1$ "
   ]
  },
  {
   "cell_type": "code",
   "execution_count": 52,
   "metadata": {
    "colab": {
     "base_uri": "https://localhost:8080/"
    },
    "id": "UNiHCGihd_md",
    "outputId": "85fd2443-ec82-4d85-fb86-ab4e7475118d",
    "scrolled": true
   },
   "outputs": [
    {
     "name": "stdout",
     "output_type": "stream",
     "text": [
      "sum of de/dw: tensor([-3., -4.])\n",
      "sum of de/db: tensor(-1.)\n",
      "tensor([0., 0.]) tensor(0.)\n"
     ]
    }
   ],
   "source": [
    "de = torch.sum(error).backward(retain_graph=True)\n",
    "\n",
    "print('''sum of de/dw:''', w.grad)\n",
    "print('sum of de/db:', b.grad)\n",
    "\n",
    "w.grad.data.zero_()\n",
    "b.grad.data.zero_()\n",
    "\n",
    "print( w.grad, b.grad)\n"
   ]
  },
  {
   "cell_type": "markdown",
   "metadata": {
    "id": "wRbj76rWd_md"
   },
   "source": [
    "<blockquote>\n",
    "    \n",
    "Обратите внимание, что в предыдущем примере процедура `backward` выполнялась для скалярного значения. Для этого мы посчитали сумму ошибок. Это связано с тем, что обратное распространение ошибки рассчитывается для одного значения, которое часто принято называть _значением функции потерь_ или `loss`.\n",
    "Также отметим, что чаще вместо простой суммы в подобных выражениях будет квадрат ошибки. Минимизация по квадрату ошибки — стандартная задача регрессии.\n",
    "Более подробную информацию об автодифференцировании можно найти [тут](https://pytorch.org/docs/stable/notes/autograd.html).\n",
    "\n",
    "__Важно сказать__, что любые операции со значениями градиента лучше всего проводить с использованием дерективы `no_grad()`. Данная деректива  позволяет не учитывать действия следующие за ней в будущих расчета ошибки.\n",
    "    \n",
    "</blockquote>  \n",
    "\n",
    "Например, допустим, что мы считаетм значения градиентов весовых параметров и учитываем их с некоторым параметром (скорость обучения) в обновлении значений этих параметров. То есть мы считаем т.н. метод обратного распростронения ошибки.\n",
    "\n",
    "Полная реализация описанного примера будует выглядеть так, как это показано ниже\n"
   ]
  },
  {
   "cell_type": "code",
   "execution_count": 53,
   "metadata": {
    "id": "_FoX-a0Qd_md"
   },
   "outputs": [],
   "source": [
    "LR = 0.01 # скорость обучения\n",
    "\n",
    "x       = torch.tensor([3.,4.])\n",
    "y_label = torch.tensor([20,40])\n",
    "w = torch.tensor([4.,8], requires_grad=True)\n",
    "b = torch.tensor(5., requires_grad=True)\n",
    "\n",
    "y = x*w+b\n",
    "\n",
    "error = y_label - y\n",
    "\n",
    "loss = error.square().sum()\n",
    "\n",
    "loss.backward(retain_graph=True)\n",
    "\n",
    "# Adjust weights & reset gradients\n",
    "with torch.no_grad():\n",
    "    w -= w.grad * LR\n",
    "    b -= b.grad * LR\n",
    "    w.grad.zero_()\n",
    "    b.grad.zero_()"
   ]
  },
  {
   "cell_type": "markdown",
   "metadata": {
    "id": "OwC3o6rCd_me"
   },
   "source": [
    "<!-- Для того, чтобы pytorch мог высчитаывать автопроизводную для какой либо последовательности вычислений, а также для того, чтобы иметь возможность высчитывать такие последовательности вне ограничений языка Python фреймворк pytorch позволяет собрать т.н. вычислиетельный граф - то есть последовательность выичислений. Вычислительный граф может быть построен несколькими способами. В pytorch данная структура формируетя динамически в ходе т.н. прямого прохождения графа. \n",
    "\n",
    "Например для нашей модели `y` граф бы выглядел как-то так:\n",
    "\n",
    "<img src=\"y_graph.png\" width=\"250\"  />  -->"
   ]
  },
  {
   "cell_type": "markdown",
   "metadata": {
    "id": "hvJoB6iid_me"
   },
   "source": [
    "Для более продвинутого вида модели, аналогичной нашей, мы бы смогли визуализировать граф с использованием библиотеки `torchviz` при помощи следующего кода:\n",
    "```python\n",
    "try:\n",
    "    import torchviz\n",
    "except:\n",
    "    !pip install torchviz\n",
    "    !pip install graphviz\n",
    "finally:\n",
    "    from torchviz import make_dot\n",
    "from torch import nn\n",
    "model = nn.Sequential()\n",
    "model.add_module('W0', nn.Linear(8, 16))\n",
    "x = torch.randn(1,8)\n",
    "y = model(x)\n",
    "make_dot(y, params=dict(model.named_parameters()))\n",
    "\n",
    "```\n",
    "<img src=\"model_comp_graph.png\" width=\"250\"  /> \n",
    "более продвинутые примеры можно найти, например, тут\n",
    "\n",
    "\n",
    "[![Open In Colab](https://colab.research.google.com/assets/colab-badge.svg)](https://colab.research.google.com/github/szagoruyko/pytorchviz/blob/master/examples.ipynb)"
   ]
  },
  {
   "cell_type": "markdown",
   "metadata": {},
   "source": [
    "> Отметим, что `PyTorch` сохраняет промежуточные буферы для всех операций, в которых участвуют тензоры, которые требуют градиентов. Обычно градиенты не нужны для валидации или режима работы. В режиме действия [`torch.no\\_grad()`](https://pytorch.org/docs/stable/generated/torch.no_grad.html#torch.no_grad)\n",
    "менеджер контекста может быть применен для отключения вычисления градиента в пределах определенного блока кода, что ускоряет выполнение и уменьшает объем требуемой памяти. <br>\n",
    "Также [@torch.no\\_grad](https://pytorch.org/docs/stable/generated/torch.no_grad.html#torch.no_grad)\n",
    "также может быть использован в качестве декоратора функций. <br>\n",
    "\n",
    "> В последних версиях `PyTorch` помимо режима  появился режим [`torch.inference_mode()`](https://pytorch.org/docs/stable/generated/torch.autograd.grad_mode.inference_mode.html).  Режим  `torch.inference_mode()` в дополнение к  `torch.no\\_grad()` [не отслеживает вычислительный граф](https://pytorch.org/docs/stable/notes/autograd.html#grad-modes). То есть режим не позволяет использовать результаты, в нем рассчитанные в вычислительном графе. Поэтому вывод модели в этом режиме еще быстрее, но внутри функций, требующих затем переиспользования в обучении этот режим нельзя использовать (то есть режим создан для `model evaluation` и `model inference`.\n"
   ]
  },
  {
   "cell_type": "markdown",
   "metadata": {},
   "source": [
    "> Еще раз опишем рабочий процесс [автодифференцирования](https://github.com/Devinterview-io/pytorch-interview-questions).\n",
    "> * __Создание тензора__. Когда тензор создается из данных или с помощью операций, он по умолчанию приобретает атрибут `requires_grad`, если не указано иное.\n",
    "> * __Отслеживание вычислений__. При выполнении математических операций устанавливаются соответствующие узлы (тензоры) и ребра графа, представленные функциями (операциями над тензорами).\n",
    "> * __Локальные градиенты__. Функции в графе определяют частные производные, обеспечивая локальные градиенты, необходимые для цепного правила.\n",
    "> * __Обратное распространение__. Путем обратного обхода графа вычисляются и накапливаются полные производные по соответствующим тензорам."
   ]
  },
  {
   "cell_type": "markdown",
   "metadata": {
    "id": "sIsS_cpFd_me"
   },
   "source": [
    ">Также важно отметить, что в `PyTorch` дифференцирование производится численным способом. Это важно понимать для того, чтобы разработчику не вычислять производные самостоятельно. Однако, также важно понять, что для использования численного дифференцирования производная как таковая должна существовать."
   ]
  },
  {
   "cell_type": "markdown",
   "metadata": {},
   "source": [
    "> Важно также отметить, что градиент может задаваться вручную. Например, зададим функцию $Q = 3a^2 - b^2$ без указания функции потерь (то есть $loss = Q$). Для заданного примера производными будут $\\frac{\\delta Q}{\\delta Q} = 1$; $\\frac{\\delta Q}{\\delta a} = 9a^2$; $\\frac{\\delta Q}{\\delta b} = -2b$.\n",
    "> Градиент `Q` должен быть вектором. Как правило, мы должны объединить Q в скаляр и неявно вызвать обратный вызов, например `Q.sum().backward()`. Однако, при необходимости, мы также можем задать вектор размерности `Q` для начала работы `autograd`."
   ]
  },
  {
   "cell_type": "code",
   "execution_count": 54,
   "metadata": {},
   "outputs": [
    {
     "name": "stdout",
     "output_type": "stream",
     "text": [
      "tensor([True, True])\n",
      "tensor([True, True])\n"
     ]
    }
   ],
   "source": [
    "a = torch.tensor([2., 3.], requires_grad=True)\n",
    "b = torch.tensor([6., 4.], requires_grad=True)\n",
    "\n",
    "Q = 3*a**3 - b**2\n",
    "\n",
    "# external_grad = torch.tensor([1., 1.])\n",
    "# Q.backward(gradient=external_grad)\n",
    "Q.sum().backward()\n",
    "\n",
    "print(9*a**2 == a.grad)\n",
    "print(-2*b == b.grad)"
   ]
  },
  {
   "cell_type": "markdown",
   "metadata": {},
   "source": [
    "## Задание"
   ]
  },
  {
   "cell_type": "markdown",
   "metadata": {},
   "source": [
    "**1.** Задайтесь функцией, для которой несложно вычислить производную (например, $Q=2x^5$). Проверьте, что результат численной производной совпадает с расчетами методами `PyTorch`."
   ]
  },
  {
   "cell_type": "code",
   "execution_count": null,
   "metadata": {},
   "outputs": [],
   "source": []
  },
  {
   "cell_type": "markdown",
   "metadata": {},
   "source": [
    "**2.** Реализовать вычислительный граф в указанном виде в `PyTorch` и дать его интерпретацию.\n",
    "<img src=\"https://pytorch.org/tutorials/_images/comp-graph.png\" width=\"500px\">\n",
    "где `CE` — [`cross entropy loss`](https://ml-cheatsheet.readthedocs.io/en/latest/loss_functions.html#cross-entropy) вида $CE = \\sum y_i log \\hat y_i$."
   ]
  },
  {
   "cell_type": "code",
   "execution_count": null,
   "metadata": {},
   "outputs": [],
   "source": []
  },
  {
   "cell_type": "markdown",
   "metadata": {},
   "source": [
    "__<font color='red'>3.*</font>__ На самом деле `PyTorch` позволяет [создавать и описывать свои объекты](https://pytorch.org/tutorials/beginner/examples_autograd/two_layer_net_custom_function.html) типа `torch.autograd`. Это иногда полезно для создания собственных слоев в `PyTorch`. Ниже показан [пример описания градиента слоя `straight-through`](https://adityassrana.github.io/blog/programming/pytorch/2020/09/25/Modern-PyTorch.html#Custom-Layers) — возвращающего 1 или 0, в зависимости от того, больше величина порога или меньше (слой типа «ступенька»). На этапе обратного распространения слой просто дублирует вход на выход.\n",
    "\n",
    "Для созданного слоя описаны методы `forward` и `backward`, а также дополнительный метод для демонстрации работы слоя."
   ]
  },
  {
   "cell_type": "code",
   "execution_count": 83,
   "metadata": {},
   "outputs": [],
   "source": [
    "class Binarizer(torch.autograd.Function):\n",
    " \n",
    "    @staticmethod\n",
    "    def forward(ctx, i):\n",
    "#         ctx.save_for_backward(i)\n",
    "        return (i>0.5).float()\n",
    "\n",
    "    @staticmethod\n",
    "    def backward(ctx, grad_output):\n",
    "#         i, = ctx.saved_tensors\n",
    "        return grad_output\n",
    "\n"
   ]
  },
  {
   "cell_type": "code",
   "execution_count": 56,
   "metadata": {
    "scrolled": true
   },
   "outputs": [
    {
     "name": "stdout",
     "output_type": "stream",
     "text": [
      "tensor([0.1000, 4.0000]) tensor([0., 1.]) tensor([0., 4.])\n"
     ]
    }
   ],
   "source": [
    "LayerB = Binarizer.apply\n",
    "\n",
    "x = torch.tensor([0.1,4])\n",
    "a = torch.randn(2, requires_grad=True)\n",
    "y_pred = LayerB(x*a)\n",
    "\n",
    "loss = y_pred.abs().sum()\n",
    "loss.backward()\n",
    "with torch.no_grad():\n",
    "    a -= 0.1 * a.grad\n",
    "    \n",
    "print(x, y_pred.data, a.grad)\n"
   ]
  },
  {
   "cell_type": "markdown",
   "metadata": {},
   "source": [
    "В описанном слое стоят комментарии строк `ctx.save_for_backward(i)` и `i = ctx.saved_tensors`. Эти строки понадобились бы, если для расчета градиента необходим был входной тензор. \n",
    "\n",
    "__Предлагается__ самостоятельно реализовать слой, вычисляющий в ручном режиме значения прямого и обратного распространения для заданного полинома, например, $Q=2x^5$ из задания выше."
   ]
  },
  {
   "cell_type": "code",
   "execution_count": null,
   "metadata": {},
   "outputs": [],
   "source": []
  }
 ],
 "metadata": {
  "colab": {
   "collapsed_sections": [],
   "name": "WS3_PyTorch_Intro.ipynb",
   "provenance": []
  },
  "kernelspec": {
   "display_name": "Python 3 (ipykernel)",
   "language": "python",
   "name": "python3"
  },
  "language_info": {
   "codemirror_mode": {
    "name": "ipython",
    "version": 3
   },
   "file_extension": ".py",
   "mimetype": "text/x-python",
   "name": "python",
   "nbconvert_exporter": "python",
   "pygments_lexer": "ipython3",
   "version": "3.11.5"
  },
  "toc": {
   "base_numbering": 1,
   "nav_menu": {},
   "number_sections": true,
   "sideBar": true,
   "skip_h1_title": false,
   "title_cell": "Table of Contents",
   "title_sidebar": "Contents",
   "toc_cell": false,
   "toc_position": {},
   "toc_section_display": true,
   "toc_window_display": false
  }
 },
 "nbformat": 4,
 "nbformat_minor": 4
}
