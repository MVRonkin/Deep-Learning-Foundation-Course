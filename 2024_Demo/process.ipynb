{
 "cells": [
  {
   "cell_type": "code",
   "execution_count": 2,
   "id": "b9059f7f",
   "metadata": {},
   "outputs": [],
   "source": [
    "import os\n",
    "import time\n",
    "import random\n",
    "import platform\n",
    "import numpy as np\n",
    "import pandas as pd\n",
    "from PIL import Image\n",
    "from pathlib import Path\n",
    "import matplotlib.pyplot as plt"
   ]
  },
  {
   "cell_type": "code",
   "execution_count": 3,
   "id": "c4f191fb",
   "metadata": {},
   "outputs": [],
   "source": [
    "cnt = 0\n",
    "for dir in (Path.cwd()/'tree').iterdir():\n",
    "    for cls_dir in dir.iterdir():\n",
    "        for img_pth in cls_dir.iterdir():\n",
    "            img = Image.open(img_pth)\n",
    "            img.resize((int(480*0.65),int(640*0.65)), resample = Image.Resampling.LANCZOS).save(img_pth,format=\"JPEG\")\n",
    "            # print(w,h)\n",
    "            # break\n",
    "            # # img.resize((640,))\n",
    "            # # # if w>h:\n",
    "            # # #     img = img.rotate(angle=270, expand=True)\n",
    "            # # #     img.save(img_pth)\n",
    "            # # #     cnt +=1\n",
    "            # # #     print(cnt, img_pth, img.size)"
   ]
  },
  {
   "cell_type": "code",
   "execution_count": null,
   "id": "12aa34de",
   "metadata": {},
   "outputs": [],
   "source": []
  }
 ],
 "metadata": {
  "kernelspec": {
   "display_name": "Python 3 (ipykernel)",
   "language": "python",
   "name": "python3"
  },
  "language_info": {
   "codemirror_mode": {
    "name": "ipython",
    "version": 3
   },
   "file_extension": ".py",
   "mimetype": "text/x-python",
   "name": "python",
   "nbconvert_exporter": "python",
   "pygments_lexer": "ipython3",
   "version": "3.12.3"
  }
 },
 "nbformat": 4,
 "nbformat_minor": 5
}
